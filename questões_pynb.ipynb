{
  "nbformat": 4,
  "nbformat_minor": 0,
  "metadata": {
    "colab": {
      "provenance": [],
      "authorship_tag": "ABX9TyOiZNM91u5pTEe/p6C3K/dH",
      "include_colab_link": true
    },
    "kernelspec": {
      "name": "python3",
      "display_name": "Python 3"
    },
    "language_info": {
      "name": "python"
    }
  },
  "cells": [
    {
      "cell_type": "markdown",
      "metadata": {
        "id": "view-in-github",
        "colab_type": "text"
      },
      "source": [
        "<a href=\"https://colab.research.google.com/github/Josue4medina/ALGESTDADOS_20251/blob/main/quest%C3%B5es_pynb.ipynb\" target=\"_parent\"><img src=\"https://colab.research.google.com/assets/colab-badge.svg\" alt=\"Open In Colab\"/></a>"
      ]
    },
    {
      "cell_type": "markdown",
      "source": [
        "QUESTÃO 7 (2 PONTOS) – Escreva um código completo em Python que utilize a biblioteca\n",
        "DATETIME para obter e exibir o ano atual na tela"
      ],
      "metadata": {
        "id": "1m1M0VfBzmU1"
      }
    },
    {
      "cell_type": "code",
      "source": [
        "from datetime import datetime\n",
        "\n",
        "hj= datetime.now().year\n",
        "print(hj)"
      ],
      "metadata": {
        "colab": {
          "base_uri": "https://localhost:8080/"
        },
        "id": "gm6sRCpNzmst",
        "outputId": "57529f8f-cb6e-40ca-d901-53f0682ff893"
      },
      "execution_count": 12,
      "outputs": [
        {
          "output_type": "stream",
          "name": "stdout",
          "text": [
            "2025\n"
          ]
        }
      ]
    },
    {
      "cell_type": "markdown",
      "source": [
        "QUESTÃO 9 (3 PONTOS) – A função INPUT() em Python é usada para receber entrada do usuário.\n",
        "Ela exibe uma mensagem (prompt), aguarda o que for digitado pelo teclado e retorna o valor como\n",
        "uma STRING. Crie um algoritmo em Python que solicite ao usuário uma frase qualquer. O\n",
        "programa deve contar a quantidade de caracteres digitados, mas só deve exibir esse número se a\n",
        "frase tiver mais de 10 caracteres."
      ],
      "metadata": {
        "id": "zgH1l3FezNXO"
      }
    },
    {
      "cell_type": "code",
      "source": [
        "txt=input(\"DIgite uma frase : \")\n",
        "len(txt)\n",
        "lt= len(txt)\n",
        "if lt>10:\n",
        "  print(f'A frase tem {lt} caracteres')\n"
      ],
      "metadata": {
        "colab": {
          "base_uri": "https://localhost:8080/"
        },
        "id": "qANxmEvV09Ix",
        "outputId": "2620c1d3-a978-4414-8fc2-2220dd5859ca"
      },
      "execution_count": 21,
      "outputs": [
        {
          "output_type": "stream",
          "name": "stdout",
          "text": [
            "DIgite uma frase : testteetteteteegetetet\n",
            "A frase tem 22 caracteres\n"
          ]
        }
      ]
    },
    {
      "cell_type": "markdown",
      "source": [
        "10 Em Python, uma variável é um nome associado a um espaço na memória usado para armazenar\n",
        "um único valor por vez. Ela permite guardar informações que podem ser reutilizadas ao longo do\n",
        "programa. Considere duas variáveis chamadas POTE_A e POTE_B. Escreva um algoritmo em\n",
        "Python que solicite ao usuário a inserção de um valor para cada uma dessas variáveis. No entanto,\n",
        "após a inserção, os valores devem ser trocados entre si, ou seja, o valor digitado inicialmente para\n",
        "POTE_A deve ser armazenado em POTE_B, e o valor de POTE_B deve ser armazenado em\n",
        "POTE_A. Importante: A troca deve ser feita de forma independente do momento da inserção, ou\n",
        "seja, não é permitido inverter os valores diretamente no momento do input. A lógica de troca deve\n",
        "ocorrer após a leitura dos dados\n",
        "a=int(input(\"Digite um valor para o pote A"
      ],
      "metadata": {
        "id": "uDiZL47J06dB"
      }
    },
    {
      "cell_type": "code",
      "execution_count": 29,
      "metadata": {
        "colab": {
          "base_uri": "https://localhost:8080/"
        },
        "id": "ZGQgNXqFyLcU",
        "outputId": "c91394ec-fd75-40c7-cc40-b439388787ce"
      },
      "outputs": [
        {
          "output_type": "stream",
          "name": "stdout",
          "text": [
            "Digite um valor Valor para a 1\n",
            "Digite um valor Valor para b 2\n",
            "o valor no pote a sera: 2\n",
            "o valor no pote b sera: 1\n"
          ]
        }
      ],
      "source": [
        "a = int(input(\"Digite um valor Valor para a \"))\n",
        "b = int(input(\"Digite um valor Valor para b \"))\n",
        "a,b=b,a\n",
        "print(f'o valor no pote a sera: {a}')\n",
        "print(f'o valor no pote b sera: {b}')"
      ]
    },
    {
      "cell_type": "markdown",
      "source": [],
      "metadata": {
        "id": "YGj7F5yq092p"
      }
    }
  ]
}