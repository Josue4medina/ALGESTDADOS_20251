{
  "nbformat": 4,
  "nbformat_minor": 0,
  "metadata": {
    "colab": {
      "provenance": [],
      "authorship_tag": "ABX9TyN9atW+I//qzpLlP8zxcolV",
      "include_colab_link": true
    },
    "kernelspec": {
      "name": "python3",
      "display_name": "Python 3"
    },
    "language_info": {
      "name": "python"
    }
  },
  "cells": [
    {
      "cell_type": "markdown",
      "metadata": {
        "id": "view-in-github",
        "colab_type": "text"
      },
      "source": [
        "<a href=\"https://colab.research.google.com/github/Josue4medina/ALGESTDADOS_20251/blob/main/atividade_4_josueeadriana.ipynb\" target=\"_parent\"><img src=\"https://colab.research.google.com/assets/colab-badge.svg\" alt=\"Open In Colab\"/></a>"
      ]
    },
    {
      "cell_type": "markdown",
      "source": [
        "Josué e Adriana"
      ],
      "metadata": {
        "id": "RjtvPNiFudtW"
      }
    },
    {
      "cell_type": "code",
      "execution_count": null,
      "metadata": {
        "id": "chQRHqXnucux"
      },
      "outputs": [],
      "source": [
        "#1 Crie um algoritmo que simule um sistema de reservas de um restaurante. O programa deve solicitar o número de pessoas para a reserva e verificar se há disponibilidade, considerando que o restaurante possui apenas mesas de 4 lugares.\n",
        "# Se o número de pessoas exceder a capacidade de uma mesa, o programa deve calcular quantas mesas serão necessárias e informar ao usuário.\n",
        "def sistema_reservas():\n",
        "    mesa=4\n",
        "    total_mesas=10\n",
        "    num_pess=int(input(\"Informe o número de pessoas para a reserva: \"))\n",
        "    mesas_nec= (num_pess + mesa - 1) //mesa\n",
        "\n",
        "    if mesas_nec<= total_mesas:\n",
        "        print(f\"Reserva confirmada! Você precisará de {mesas_nec} mesa(s) para acomodar {num_pess} pessoa(s).\")\n",
        "        mesas_rest= mesa- mesas_nec\n",
        "        print(f\"Mesas restantes disponíveis: {mesas_rest}\")\n",
        "    else:\n",
        "        print(\"Desculpe, não há mesas suficientes para essa reserva.\")\n",
        "sistema_reservas()"
      ]
    },
    {
      "cell_type": "code",
      "source": [
        "#2 Desenvolva um algoritmo que auxilie na gestão de estoque de uma loja. O programa deve permitir que o usuário insira o nome e a quantidade de diferentes produtos. Se a quantidade de um produto for inferior a 5 unidades, o sistema deve alertar que o estoque está baixo e sugerir a reposição. O processo deve continuar até que o usuário decida encerrar\n",
        "def gestao_estoque():\n",
        "    print(\"Gestão de Estoque - Insira os produtos e quantidades.\")\n",
        "    while True:\n",
        "        produto=input(\"\\nDigite o nome do produto (ou 'sair' para encerrar): \").strip()\n",
        "        if produto.lower() == 'sair':\n",
        "            print(\"Encerrando o sistema de estoque.\")\n",
        "            break\n",
        "        qtdd = input(f\"Quantidade do produto '{produto}': \")\n",
        "        while True:\n",
        "            if len(qtdd)==0:\n",
        "                valido False\n",
        "            else:\n",
        "                inicio=1 if qtdd[0] == '-' else 0\n",
        "                if inicio==1 and len(qtdd)==1:\n",
        "                    valido=False\n",
        "                else:\n",
        "                    valido=True\n",
        "                    for c in qtdd[inicio:]:\n",
        "                        if c < '0' or c > '9':\n",
        "                            valido=False\n",
        "                            break\n",
        "            if valido:\n",
        "                break\n",
        "            else:\n",
        "                print(\"Quantidade inválida! Digite um número inteiro.\")\n",
        "                qtdd= input(f\"Quantidade do produto '{nome_produto}': \")\n",
        "        quantidade = int(qtdd)\n",
        "        if quantidade < 5:\n",
        "            print(f\"Atenção: estoque baixo para '{produto}'. Reposição necessária!\")\n",
        "        else:\n",
        "            print(f\"Estoque do produto '{produto}' está ok.\")\n",
        "gestao_estoque()"
      ],
      "metadata": {
        "id": "G65MGb19updY"
      },
      "execution_count": null,
      "outputs": []
    },
    {
      "cell_type": "code",
      "source": [
        "#3 Elabore um algoritmo que simule um quiz de perguntas e respostas. O programa deve apresentar uma série de perguntas ao usuário, oferecer opções de resposta e verificar se a resposta fornecida está correta. Ao final, o sistema deve exibir a pontuação total do usuário e fornecer um feedback baseado no desempenho.\n",
        "\n",
        "def quiz():\n",
        "    print(\"Bem-vindo ao Quiz!\\nResponda as perguntas escolhendo a opção correta (1, 2 ou 3).\")\n",
        "    perguntas = [\n",
        "        {\n",
        "            \"pergunta\": \"Qual a cor do céu?\",\n",
        "            \"opcoes\": [\"1) Verde\", \"2) Azul\", \"3) Vermelho\"],\n",
        "            \"correta\": \"2\"\n",
        "        },\n",
        "        {\n",
        "            \"pergunta\": \"Qual o ano atual?\",\n",
        "            \"opcoes\": [\"1) 2023\", \"2) 2024\", \"3) 2025\"],\n",
        "            \"correta\": \"3\"\n",
        "        },\n",
        "        {\n",
        "            \"pergunta\": \"Quantas Copas o Brasil tem?\",\n",
        "            \"opcoes\": [\"1) 3\", \"2) 5\", \"3) 7\"],\n",
        "            \"correta\": \"2\"\n",
        "        }\n",
        "    ]\n",
        "    pontuacao = 0\n",
        "    for i, q in enumerate(perguntas, 1):\n",
        "        print(f\"\\nPergunta {i}: {q['pergunta']}\")\n",
        "        for opcao in q['opcoes']:\n",
        "            print(opcao)\n",
        "        resposta = input(\"Sua resposta (1, 2 ou 3): \").strip()\n",
        "        while resposta not in [\"1\", \"2\", \"3\"]:\n",
        "            print(\"Resposta inválida! Escolha 1, 2 ou 3.\")\n",
        "            resposta = input(\"Digite novamente: \").strip()\n",
        "\n",
        "        if resposta == q[\"correta\"]:\n",
        "            print(\" Resposta correta!\")\n",
        "            pontuacao += 1\n",
        "        else:\n",
        "            print(f\" Resposta incorreta. A resposta correta era a opção {q['correta']}.\")\n",
        "    print(f\"\\nPontuação final: {pontuacao}/{len(perguntas)}\")\n",
        "    if pontuacao == len(perguntas):\n",
        "        print(\"Excelente! Você acertou tudo!\")\n",
        "    elif pontuacao >= len(perguntas) // 2:\n",
        "        print(\"Bom trabalho! Mas dá pra melhorar.\")\n",
        "    else:\n",
        "        print(\"Que pena... tente novamente para melhorar seu desempenho.\")\n",
        "quiz()"
      ],
      "metadata": {
        "id": "ZZ_wEi9qupX3"
      },
      "execution_count": null,
      "outputs": []
    },
    {
      "cell_type": "code",
      "source": [
        "#4 Crie um algoritmo que simule um sistema de controle de acesso a um edifício. O programa deve solicitar ao usuário um código de acesso e verificar se ele é válido. Caso contrário, deve permitir novas tentativas até que o número máximo de 3 tentativas seja atingido. Se o acesso for concedido, uma mensagem de boas-vindas deve ser exibida; caso contrário, uma mensagem de bloqueio deve ser apresentada\n",
        "def controle_acesso():\n",
        "    codigo_correto=\"1234\"\n",
        "    tentativas=0\n",
        "    max_tentativas=3\n",
        "    print(\"Sistema de Controle de Acesso\")\n",
        "    while tentativas < max_tentativas:\n",
        "        codigo_digitado = input(\"Digite o código de acesso: \").strip()\n",
        "        if codigo_digitado == codigo_correto:\n",
        "            print(\" Acesso concedido. Bem-vindo ao edifício!\")\n",
        "            return\n",
        "        else:\n",
        "            tentativas+= 1\n",
        "            restante=max_tentativas - tentativas\n",
        "            if restante > 0:\n",
        "                print(f\"Código incorreto. Você tem {restante} tentativa(s) restante(s).\")\n",
        "    print(\"Acesso bloqueado. Número máximo de tentativas atingido.\")\n",
        "controle_acesso()"
      ],
      "metadata": {
        "id": "_sLFwN-JupQQ"
      },
      "execution_count": null,
      "outputs": []
    },
    {
      "cell_type": "code",
      "source": [
        "#5 Desenvolva um algoritmo que ajude no planejamento de uma viagem de carro. O programa deve solicitar a distância total a ser percorrida, a capacidade do tanque de combustível do veículo e o consumo médio de combustível (km/l). Com base nessas informações, o sistema deve calcular quantas paradas para reabastecimento serão necessárias, assumindo que o motorista sempre reabastece o tanque completamente.​\n",
        "def planejamento_viagem():\n",
        "    while True:\n",
        "        distancia_str = input(\"Informe a distância total da viagem em km: \")\n",
        "        if distancia_str.count('.') <= 1 and all(c in '0123456789.' for c in distancia_str) and distancia_str != '':\n",
        "            distancia = float(distancia_str)\n",
        "            break\n",
        "        print(\"Valor inválido! Digite um número positivo.\")\n",
        "\n",
        "    while True:\n",
        "        capacidade_str = input(\"Informe a capacidade do tanque (em litros): \")\n",
        "        if capacidade_str.count('.') <= 1 and all(c in '0123456789.' for c in capacidade_str) and capacidade_str != '':\n",
        "            capacidade = float(capacidade_str)\n",
        "            break\n",
        "        print(\"Valor inválido! Digite um número positivo.\")\n",
        "\n",
        "    while True:\n",
        "        consumo_str = input(\"Informe o consumo médio do veículo (km por litro): \")\n",
        "        if consumo_str.count('.') <= 1 and all(c in '0123456789.' for c in consumo_str) and consumo_str != '':\n",
        "            consumo = float(consumo_str)\n",
        "            break\n",
        "        print(\"Valor inválido! Digite um número positivo.\")\n",
        "\n",
        "    autonomia = capacidade * consumo\n",
        "    paradas = int((distancia + autonomia - 1) // autonomia)\n",
        "\n",
        "    if paradas == 0:\n",
        "        print(\"\\nNenhuma parada será necessária. Você consegue fazer a viagem com um tanque cheio!\")\n",
        "    else:\n",
        "        print(f\"\\nSerão necessárias {paradas} parada(s) para reabastecimento.\")\n",
        "\n",
        "planejamento_viagem()\n"
      ],
      "metadata": {
        "id": "yWUJNyYdupHg"
      },
      "execution_count": null,
      "outputs": []
    },
    {
      "cell_type": "code",
      "source": [
        "# Elabore um algoritmo que simule um sistema de avaliação de filmes. O programa deve permitir que o usuário insira o título de vários filmes e uma nota de 0 a 10 para cada um. Após o usuário finalizar as entradas, o sistema deve exibir a média das notas atribuídas e listar os filmes que receberam nota superior a 8, destacando-os como altamente recomendados.\n",
        "\n",
        "def sistema_avaliacao_filmes():\n",
        "  filmes = []\n",
        "  notas = []\n",
        "  while True:\n",
        "    filme = input(\"Digite o título do filme (ou 'sair' para encerrar): \")\n",
        "    if filme == \"sair\":\n",
        "      break\n",
        "    nota = float(input(\"Digite a nota do filme (de 0 a 10): \"))\n",
        "    filmes.append(filme)\n",
        "    notas.append(nota)\n",
        "\n",
        "    media = sum(notas) / len(notas)\n",
        "  print(\"A média das notas atribuídas é:\", media)\n",
        "\n",
        "  print(\"Os filmes altamente recomendados são:\")\n",
        "  for i in range(len(filmes)):\n",
        "    if notas[i] > 8:\n",
        "      print(filmes[i])\n",
        "\n",
        "sistema_avaliacao_filmes()\n"
      ],
      "metadata": {
        "id": "r8l5LtuEwNXc"
      },
      "execution_count": null,
      "outputs": []
    },
    {
      "cell_type": "code",
      "source": [
        "\n",
        "#Crie um algoritmo que simule um sistema de monitoramento de temperatura ambiente. O programa deve solicitar ao usuário que insira a temperatura registrada a cada hora durante um período de 24 horas. Ao final, o sistema deve calcular a temperatura média do dia, identificar a temperatura mais alta e a mais baixa registradas, e alertar se em algum momento a temperatura ultrapassou 30°C ou ficou abaixo de 15°C\n",
        "\n",
        "def sistema_monitoramento_temperatura():\n",
        "  temperaturas = []\n",
        "  for i in range(24):\n",
        "    temperatura = float(input(\"Digite a temperatura registrada na hora \" + str(i+1) + \": \"))\n",
        "    temperaturas.append(temperatura)\n",
        "    media = sum(temperaturas) / len(temperaturas)\n",
        "    temperatura_maxima = max(temperaturas)\n",
        "    temperatura_minima = min(temperaturas)\n",
        "\n",
        "\n",
        "    print(\"A temperatura média do dia foi de\", media, \"°C.\")\n",
        "    print(\"A temperatura máxima do dia foi de\", temperatura_maxima, \"°C.\")\n",
        "    print(\"A temperatura mínima do dia foi de\", temperatura_minima, \"°C.\")"
      ],
      "metadata": {
        "id": "DARbBbHgwNPs"
      },
      "execution_count": null,
      "outputs": []
    },
    {
      "cell_type": "code",
      "source": [
        "#Desenvolva um algoritmo que auxilie na organização de uma biblioteca pessoal. O programa deve permitir que o usuário insira o título e o autor de diversos livros. Após a inserção, o sistema deve oferecer a opção de buscar por livros de um autor específico e listar todos os títulos correspondentes. O processo deve continuar até que o usuário decida encerrar.\n",
        "\n",
        "def biblioteca():\n",
        "  livros = []\n",
        "  autores = []\n",
        "\n",
        "  while True:\n",
        "    titulo = input(\"Digite o título do livro (ou 'sair' para encerrar): \")\n",
        "    if titulo == \"sair\":\n",
        "      break\n",
        "    autor = input(\"Digite o autor do livro: \")\n",
        "    livros.append(titulo)\n",
        "    autores.append(autor)\n",
        "    print(\"Livro cadastrado com sucesso!\")\n",
        "    print(\"Deseja cadastrar outro livro? (s/n)\")\n",
        "    opcao = input()\n",
        "    if opcao == \"n\":\n",
        "      break\n",
        "      print(\"Livros cadastrados:\")\n",
        "  for i in range(len(livros)):\n",
        "    print(livros[i] + \" - \" + autores[i])\n",
        "    autor_busca = input(\"Digite o nome do autor para buscar os livros correspondentes: \")\n",
        "    for j in range(len(autores)):\n",
        "      if autores[j] == autor_busca:\n",
        "        print(livros[j])\n",
        "        biblioteca()\n"
      ],
      "metadata": {
        "id": "LO27ynJ1wNIF"
      },
      "execution_count": null,
      "outputs": []
    },
    {
      "cell_type": "code",
      "source": [
        "#Elabore um algoritmo que simule um sistema de gerenciamento de tarefas domésticas. O programa deve permitir que o usuário insira diferentes tarefas e atribua um nível de prioridade a cada uma (alto, médio ou baixo). O sistema deve então exibir as tarefas organizadas por ordem de prioridade, começando pelas de alta prioridade, e permitir que o usuário marque tarefas como concluídas.\n",
        "\n",
        "def sistema _ tarefas _ domesticas  ():\n",
        "  tarefas = []\n",
        "  prioridades = []\n",
        "  concluidas = []\n",
        "  while True:\n",
        "    tarefa = input(\"Digite a tarefa (ou 'sair' para encerrar): \")\n",
        "    if tarefa == \"sair\":\n",
        "      break\n",
        "    prioridade = input(\"Digite a prioridade da tarefa (alto, médio ou baixo): \")\n",
        "\n",
        "\n",
        "\n",
        "\n"
      ],
      "metadata": {
        "id": "V2MTVVXnwNAN"
      },
      "execution_count": null,
      "outputs": []
    },
    {
      "cell_type": "code",
      "source": [
        "#  #Crie um algoritmo que simule um sistema de acompanhamento de hábitos saudáveis. O programa deve permitir que o usuário registre diariamente a quantidade de copos de água ingeridos e o número  de minutos dedicados a atividades físicas. Ao final de uma semana, o sistema deve calcular a média diária de consumo de água  e de exercícios, compará-las com as recomendações de saúde (por exemplo, 8 copos de água e 30 minutos de exercício por dia), e fornecer um feedback sobre o desempenho do usuário.\n",
        "\n",
        "def sistema_acompanhamento_habitos():\n",
        "  agua = []\n",
        "  exercicios = []\n",
        "  for i in range(7):\n",
        "    copos_agua = int(input(\"Digite a quantidade de copos de água ingeridos na semana \" + str(i+1) + \": \"))\n",
        "    agua.append(copos_agua)\n",
        "    media_agua = sum(agua) / len(agua)\n",
        "    minutos_exercicios = int(input(\"Digite o número de minutos dedicados a exercícios na semana \" + str(i+1) + \": \"))\n",
        "    exercicios.append(minutos_exercicios)\n",
        "    media_exercicios = sum(exercicios) / len(exercicios)\n",
        "    print(\"A média diária de consumo de água é de\", media_agua, \"copos de água\")\n",
        "    print(\"A média diária de exercícios é de\", media_exercicios, \"minutos\")\n",
        "\n"
      ],
      "metadata": {
        "id": "QIH34XAlwM1_"
      },
      "execution_count": null,
      "outputs": []
    }
  ]
}