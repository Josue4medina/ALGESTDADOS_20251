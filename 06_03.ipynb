{
  "nbformat": 4,
  "nbformat_minor": 0,
  "metadata": {
    "colab": {
      "provenance": [],
      "authorship_tag": "ABX9TyMnnFkypH//QjlZLFgkch9e",
      "include_colab_link": true
    },
    "kernelspec": {
      "name": "python3",
      "display_name": "Python 3"
    },
    "language_info": {
      "name": "python"
    }
  },
  "cells": [
    {
      "cell_type": "markdown",
      "metadata": {
        "id": "view-in-github",
        "colab_type": "text"
      },
      "source": [
        "<a href=\"https://colab.research.google.com/github/Josue4medina/ALGESTDADOS_20251/blob/main/06_03.ipynb\" target=\"_parent\"><img src=\"https://colab.research.google.com/assets/colab-badge.svg\" alt=\"Open In Colab\"/></a>"
      ]
    },
    {
      "cell_type": "code",
      "source": [
        "#Criar um programa que retorne o nome, a cidade e a idade de um usuario através da data de nascimento\n",
        "\n",
        "from datetime import datetime\n",
        "# Atribui um valor textual a variavel nome\n",
        "nome = input(\"Digite seu nome:\")\n",
        "#Atribui um valor textual a variavel cidade\n",
        "cidade = input( \"Digite sua cidade:\")\n",
        "#Data de nascimeto em formtato de texto\n",
        "dat_nasc  = input(\"Quando vc nasceu? (DD/MM/YYYY)\")\n",
        "# Usando a biblioteca datetime - a função now pega o valor da data de hoje\n",
        "# Já a função strptime pega um valor um texto e converte em tipo datetime\n",
        "idade = (datetime.now() - datetime.strptime(dat_nasc, '%d/%m/%Y'))\n",
        "\n",
        "idade = idade.days // 365\n",
        "print(f\"Seu nome é:  {nome},Sua cidade é: {cidade}, e sua idade é:  {idade}\")"
      ],
      "metadata": {
        "colab": {
          "base_uri": "https://localhost:8080/"
        },
        "id": "tC7JtD_2RIJh",
        "outputId": "f158802e-75cf-418f-d03c-095f950b7460"
      },
      "execution_count": null,
      "outputs": [
        {
          "output_type": "stream",
          "name": "stdout",
          "text": [
            "Digite seu nome: Josué \n",
            "Digite sua cidade:Nova Venécia\n",
            "Quando vc nasceu? (DD/MM/YYYY)04/02/2003\n",
            "Seu nome é:   Josué ,Sua cidade é: Nova Venécia, e sua idade é:  22\n"
          ]
        }
      ]
    },
    {
      "cell_type": "code",
      "source": [
        "#Criar um programa que retorne o nome, a cidade e a idade de um usuario através da data de nascimento\n",
        "\n",
        "from datetime import datetime\n",
        "# Atribui um valor textual a variavel nome\n",
        "nome = input(\"Digite seu nome:\")\n",
        "#Atribui um valor textual a variavel cidade\n",
        "cidade = input( \"Digite sua cidade:\")\n",
        "#Data de nascimeto em formtato de texto\n",
        "dat_nasc  = input(\"Quando vc nasceu? (DD/MM/YYYY)\")\n",
        "data_conv = datetime.strptime(dat_nasc, '%d/%m/%Y')\n",
        "#pegando a data de hj\n",
        "hoje = datetime.now()\n",
        "# idade = Data de hoje -  data de nascimento, em dia , dividido por 365 dias do anos\n",
        "idade = (hoje - data_conv).days // 365\n",
        "print(f\"Seu nome é:  {nome},Sua cidade é: {cidade}, e sua idade é:  {idade}\")"
      ],
      "metadata": {
        "colab": {
          "base_uri": "https://localhost:8080/"
        },
        "id": "Iy7TER3-Xm4x",
        "outputId": "da16e722-8c12-4b24-ae89-833c11967126"
      },
      "execution_count": null,
      "outputs": [
        {
          "output_type": "stream",
          "name": "stdout",
          "text": [
            "Digite seu nome:josue\n",
            "Digite sua cidade:nv\n",
            "Quando vc nasceu? (DD/MM/YYYY)04/02/2003\n",
            "Seu nome é:  josue,Sua cidade é: nv, e sua idade é:  22\n"
          ]
        }
      ]
    }
  ]
}