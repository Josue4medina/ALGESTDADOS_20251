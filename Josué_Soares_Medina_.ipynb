{
  "nbformat": 4,
  "nbformat_minor": 0,
  "metadata": {
    "colab": {
      "provenance": [],
      "authorship_tag": "ABX9TyM3wbpq6MrPLaad+Mj02c+x",
      "include_colab_link": true
    },
    "kernelspec": {
      "name": "python3",
      "display_name": "Python 3"
    },
    "language_info": {
      "name": "python"
    }
  },
  "cells": [
    {
      "cell_type": "markdown",
      "metadata": {
        "id": "view-in-github",
        "colab_type": "text"
      },
      "source": [
        "<a href=\"https://colab.research.google.com/github/Josue4medina/ALGESTDADOS_20251/blob/main/Josu%C3%A9_Soares_Medina_.ipynb\" target=\"_parent\"><img src=\"https://colab.research.google.com/assets/colab-badge.svg\" alt=\"Open In Colab\"/></a>"
      ]
    },
    {
      "cell_type": "markdown",
      "source": [
        "#JOSUÉ SORES MEDINA"
      ],
      "metadata": {
        "id": "pduqdvxwCbjG"
      }
    },
    {
      "cell_type": "code",
      "source": [
        "#1. Peça um número ao usuário e verifique se ele é menor que 50. Informe o resultado com uma mensagem.\n",
        "num = int(input('Digite um numero:'))\n",
        "if num >50:\n",
        "  print( num, ' é maior do que 50.')\n",
        "elif  num==50 :\n",
        " print(num, \"é igual a 50\")\n",
        "else:\n",
        "  print(num, 'é menor do que 50.')"
      ],
      "metadata": {
        "id": "_ki2GUxbCgZk"
      },
      "execution_count": null,
      "outputs": []
    },
    {
      "cell_type": "code",
      "source": [
        "#2. Solicite um número ao usuário e informe se ele é divisível por 7. Para isso, utilize uma verificação simples.\n",
        "num = int(input('Digite um numero:'))\n",
        "if num % 7==0:\n",
        " print(num,'É divisel por 7')\n",
        "else:\n",
        "  print(num,\"Não é divisivel por 7\")"
      ],
      "metadata": {
        "id": "Ha-ezo-8DgbE"
      },
      "execution_count": null,
      "outputs": []
    },
    {
      "cell_type": "code",
      "source": [
        "#3. Peça um nome ao usuário e verifique se ele contém a letra \"o\". Exiba uma mensagem informando o resultado.\n",
        "nome = input(\"Digite um nome: \")\n",
        "if \"a\" in nome:\n",
        " print(nome, \"não tem a letra 'A'.\" )\n",
        "else:\n",
        "  print(nome, \"não tem a letra 'A'.\")"
      ],
      "metadata": {
        "id": "tbMowKLJGw9z"
      },
      "execution_count": null,
      "outputs": []
    },
    {
      "cell_type": "code",
      "source": [
        "#4. Solicite um número inteiro e verifique se ele termina em 0. Utilize operações matemáticas para essa verificação.\n",
        "num = int(input(\"Digite um numero: \"))\n",
        "if num%10 == 0:\n",
        "  print(num,\" termina em '0'.\")\n",
        "else:\n",
        "  print(num,\"não  termina em '0'.\")"
      ],
      "metadata": {
        "id": "PO9KGOmdKiP6"
      },
      "execution_count": null,
      "outputs": []
    },
    {
      "cell_type": "code",
      "source": [
        "#5. Peça a idade de uma pessoa e informe se ela tem idade suficiente para votar (considerando 16 anos como idade mínima).\n",
        "idd = int(input('Digite uma idade: '))\n",
        "if idd >16 or idd== 16:\n",
        "  print(\"Com base na sua idade você já pode votar\")\n",
        "else:\n",
        "  print(\"Você não pode votar.\")"
      ],
      "metadata": {
        "id": "-E04sW_aLwwi"
      },
      "execution_count": null,
      "outputs": []
    },
    {
      "cell_type": "code",
      "source": [
        "#6. Solicite ao usuário que digite um único caractere e informe se ele é uma vogal (a, e, i, o, u).\n",
        "lt =  input('Digite uma letra: ')\n",
        "if lt in 'aeiou' or lt in 'AEIOU':\n",
        "  print(\"A letra informada é vogal\")\n",
        "else:\n",
        "  print(\"A letra informada não  é uma vogal\")"
      ],
      "metadata": {
        "id": "B-5GtJAtMlZK",
        "colab": {
          "base_uri": "https://localhost:8080/"
        },
        "outputId": "ba1d153a-cb96-412d-dcc5-6daf2ddabcd1"
      },
      "execution_count": null,
      "outputs": [
        {
          "output_type": "stream",
          "name": "stdout",
          "text": [
            "Digite uma letra: g\n",
            "A letra informada não  é uma vogal\n"
          ]
        }
      ]
    },
    {
      "cell_type": "code",
      "source": [
        "#7. Peça a temperatura atual em graus Celsius e classifique-a como \"abaixo de zero\", \"entre 0°C e 20°C\" ou \"acima de 20°C\".\n",
        "temp = int(input(\"Digite uma temperatura: \"))\n",
        "if temp<0:\n",
        "  print(\"A temperatura atual é menor do que 0°C.\")\n",
        "elif temp >=0 and temp <= 20:\n",
        "    print(\"A temperatura atual esta ente 0°C e 20°C.\")\n",
        "else:\n",
        " print(\"A temperatura atual é maior do que 20°C.\")"
      ],
      "metadata": {
        "id": "BmCpQVvMQ1Ii"
      },
      "execution_count": null,
      "outputs": []
    },
    {
      "cell_type": "code",
      "source": [
        "#8. Solicite um número e informe se ele é maior que 1000. Exiba uma mensagem apropriada.\n",
        "num = int(input('Digite um numero: '))\n",
        "if num>1000:\n",
        " print(num,\"é maior do que mil.\")\n",
        "else:\n",
        " print(num,\" não é maior do que mil.\")\n"
      ],
      "metadata": {
        "id": "02PBZVD-UTF5"
      },
      "execution_count": null,
      "outputs": []
    },
    {
      "cell_type": "code",
      "source": [
        "#9. Peça um valor em reais e informe se ele é múltiplo de 50, ou seja, se o valor pode ser pago apenas com notas de R$50,00.\n",
        "num = int(input(\"Digite o valor de uma quantia de dinheiro: \"))\n",
        "if num%50==0:\n",
        " print('Com a  quantia de dinheiro digita será possivel pagar apenas com notas de R$50,00')\n",
        "else:\n",
        "  print('Com a quantia de dinheiro informada não será possivel pagar apenas com notas de R$50,00')"
      ],
      "metadata": {
        "id": "uT9xLj5zVIjI"
      },
      "execution_count": null,
      "outputs": []
    },
    {
      "cell_type": "code",
      "source": [
        "#10. Solicite um número ao usuário e verifique se ele está no intervalo entre 100 e 200 (inclusive). Informe o resultado.\n",
        "#conferrir se esta certo\n",
        "num = int(input(\"Digite um valor numerico:\"))\n",
        "if num>=100 and num<=200:\n",
        "  print(num,\"esta entre 100 e 200\")\n",
        "else:\n",
        " print(num,'não esta entre 100 e 200.')"
      ],
      "metadata": {
        "id": "_ixK1nPVWX2Y"
      },
      "execution_count": null,
      "outputs": []
    },
    {
      "cell_type": "code",
      "source": [
        "#11. Peça a altura de uma árvore em metros e informe se ela tem menos de 5 metros de altura.\n",
        "alt = int(input(\"Digite a altura de sua arvore: \"))\n",
        "if alt<5:\n",
        " print(\"Sua árvore tem menos de 5 metros\")"
      ],
      "metadata": {
        "id": "ZEXaDDCTZFxl"
      },
      "execution_count": null,
      "outputs": []
    },
    {
      "cell_type": "code",
      "source": [
        "#12. Solicite a temperatura de um líquido em graus Celsius e informe seu estado físico:\n",
        "# \"congelado\" (≤0°C), \"líquido\" (0°C a 100°C) ou \"ebulição\" (>100°C).\n",
        "temp = int(input(\"Digite a tempuratura  do líquido: \"))\n",
        "if temp<0:\n",
        " print(\"O liquido está no estado solido.\")\n",
        "elif temp>= 0 and temp<100:\n",
        " print('Ele está em estado liquido.')\n",
        "else:\n",
        "  print(\"O liquido esta em estado de ebulição.\")"
      ],
      "metadata": {
        "id": "xI4Aa_JLZ8tP"
      },
      "execution_count": null,
      "outputs": []
    },
    {
      "cell_type": "code",
      "source": [
        "#13. Peça um número inteiro e verifique se ele é múltiplo de 10. Mostre uma mensagem indicando o resultado.\n",
        "num =int(input(\"Digite um valor:\"))\n",
        "div = num/10\n",
        "if num%10==0:\n",
        " print(num,\" é divisivel por 10 e o resultado da divisão será\", div,\".\")\n",
        "else:\n",
        "  print(num,\" não é divisivel por 10 e o resultado da divisão será\", div,\".\")\n"
      ],
      "metadata": {
        "id": "GnCBNdsIbiNP"
      },
      "execution_count": null,
      "outputs": []
    },
    {
      "cell_type": "code",
      "source": [
        "#14. Solicite a nota final de dois alunos e exiba qual deles teve a maior pontuação.\n",
        "nt1a1 = float(input(\"Digite a primeira nota do primeiro aluno: \"))\n",
        "nt2a1 = float(input(\"Digite a segunda nota do primeiro aluno: \"))\n",
        "nt1a2 = float(input(\"Digite a primeira nota segundo aluno: \"))\n",
        "nt2a2 = float(input(\"Digite a segunda nota do segundo aluno: \"))\n",
        "ntf1 = (nt1a1+nt2a1)/2\n",
        "ntf2 = (nt1a2+nt2a2)/2\n",
        "if ntf1> ntf2:\n",
        "  print('O primero aluno obteve a maior pontuação')\n",
        "elif ntf1 == ntf2:\n",
        "  print(\"Os dois alunos obteram notas iguais!\")\n",
        "else:\n",
        " print('O segundo aluno aluno obteve a maior pontuação')"
      ],
      "metadata": {
        "id": "WKSsa9fLT_yx"
      },
      "execution_count": null,
      "outputs": []
    },
    {
      "cell_type": "code",
      "source": [
        "#15. Peça o nome de uma fruta e verifique se ela contém a letra \"e\". Exiba o resultado.\n",
        "fruta = input(\"Digite uma fruta de seu gosto \")\n",
        "fruta.count('a') or fruta.count(\"A\")"
      ],
      "metadata": {
        "colab": {
          "base_uri": "https://localhost:8080/"
        },
        "id": "1yAVIwV5c1PS",
        "outputId": "cdc49032-c8c4-41e7-f4bc-e702a61c59f2"
      },
      "execution_count": null,
      "outputs": [
        {
          "name": "stdout",
          "output_type": "stream",
          "text": [
            "Digite uma fruta de seu gosto pera\n"
          ]
        },
        {
          "output_type": "execute_result",
          "data": {
            "text/plain": [
              "1"
            ]
          },
          "metadata": {},
          "execution_count": 97
        }
      ]
    },
    {
      "cell_type": "code",
      "source": [
        "#16. Peça a velocidade de um carro em km/h e informe se ela ultrapassa o limite de 80 km/h.\n",
        "vel = int(input(\"Digite a velocida do carro(KM/H):\"))\n",
        "if vel>80:\n",
        "  print(f\"Ao estar á uma velocidade de {vel} km/h você ultrapassou o limite que era de 80 km/h!!!\")\n",
        "else:\n",
        " print(f\"Ao estar á uma velocidade {vel}  km/h você está dentro da velocidade maxima permitida que é de 80 km/h.\")"
      ],
      "metadata": {
        "colab": {
          "base_uri": "https://localhost:8080/"
        },
        "id": "hua7FKJcfYwS",
        "outputId": "931dd122-45ff-4b48-9c01-1fabc30ca574"
      },
      "execution_count": null,
      "outputs": [
        {
          "output_type": "stream",
          "name": "stdout",
          "text": [
            "Digite a velocida do carro(KM/H):95\n",
            "Ao estar á uma velocidade de 95 km/h você ultrapassou o limite que era de 80 km/h!!!\n"
          ]
        }
      ]
    },
    {
      "cell_type": "code",
      "source": [
        "#17. Solicite um número ao usuário e informe se ele é divisível por 4 ou por 5. Exiba uma mensagem adequada.\n",
        "num=int(input(\"Digite um numero: \"))\n",
        "if num%4==0 and num%5==0:\n",
        " print(f\"O n° {num} é divisivel ao mesmo tempo por 4 e 5.\")\n",
        "elif num%4==0:\n",
        "  print(f\"O n° {num} é divisivel apenas por 4.\")\n",
        "elif num%5==0:\n",
        "  print(f\"O n° {num} é divisivel apenas por 5.\")\n",
        "\n",
        "else:\n",
        "  print(f\"O n° {num} não é divisivel por nenhum deles.\")"
      ],
      "metadata": {
        "id": "JhmwUAAPflsD",
        "colab": {
          "base_uri": "https://localhost:8080/"
        },
        "outputId": "55460e6f-9dd9-4dec-fbc4-a45966ecc591"
      },
      "execution_count": null,
      "outputs": [
        {
          "output_type": "stream",
          "name": "stdout",
          "text": [
            "Digite um numero: 40\n",
            "O n° 40 é divisivel ao mesmo tempo por 4 e 5.\n"
          ]
        }
      ]
    },
    {
      "cell_type": "code",
      "source": [
        "#18. Peça uma palavra ao usuário e verifique se ela contém a letra \"z\". Mostre uma mensagem informando o resultado.\n",
        "plv = input(\"Digite uma palavra \")\n",
        "plv.count(\"a\") or plv.count(\"A\")"
      ],
      "metadata": {
        "id": "6dPwAPCZfnDK"
      },
      "execution_count": null,
      "outputs": []
    },
    {
      "cell_type": "code",
      "source": [
        "#19. Solicite a quantidade de itens em um pedido e informe se ela é maior ou menor que 15 unidades.\n",
        "num=int(input(\"Digite a quantidade itens disponiveis: \"))\n",
        "if num<15:\n",
        "  print(\"Você tem menos de 15 unidaes disponiveis.\")\n",
        "else:\n",
        "   print(\"Você tem mais de 15 unidaes disponiveis.\")"
      ],
      "metadata": {
        "id": "_2UVtQBAfqMa"
      },
      "execution_count": null,
      "outputs": []
    },
    {
      "cell_type": "code",
      "source": [
        "#20. Peça um número e verifique se ele termina com o dígito 7. Informe o resultado.\n",
        "num=int(input(\"Digite um numero: \"))\n",
        "if num%10==7:\n",
        " print(\"o número digitado termina em '7'\")\n",
        "else:\n",
        " print(\"O número digitado não termina em '7'\")"
      ],
      "metadata": {
        "id": "YiJaBXAufsf0",
        "colab": {
          "base_uri": "https://localhost:8080/"
        },
        "outputId": "435bb91f-1edc-4bd4-f173-aa2abf419a9f"
      },
      "execution_count": null,
      "outputs": [
        {
          "output_type": "stream",
          "name": "stdout",
          "text": [
            "Digite um numero: 17\n",
            "o número digitado termina em '7'\n"
          ]
        }
      ]
    },
    {
      "cell_type": "code",
      "source": [
        "#21. Solicite o ano de fabricação de um veículo e informe se ele tem mais de 20 anos.\n",
        "from datetime import datetime\n",
        "fab=int(input(\"Digite a data de fabricação do seu veiculo: \"))\n",
        "da = datetime.now().year\n",
        "idd = da - fab\n",
        "if idd>20:\n",
        " print(f\"Como seu veiculo foi fabricado em {fab} ele já tem {idd} portanto mais de 20 anos.\")\n",
        "else:\n",
        " print(f\"Como seu veiculo foi fabricado em {fab} ele ainda tem {idd} portanto menos de 20 anos.\")"
      ],
      "metadata": {
        "id": "SgRzkO5rfvFS",
        "colab": {
          "base_uri": "https://localhost:8080/"
        },
        "outputId": "36a8242c-7567-4530-d861-20d49b4a345c"
      },
      "execution_count": null,
      "outputs": [
        {
          "output_type": "stream",
          "name": "stdout",
          "text": [
            "Digite a data de fabricação do seu veiculo: 2003\n",
            "Como seu veiculo foi fabricado em 2003 ele já tem 22 portanto mais de 20 anos.\n"
          ]
        }
      ]
    },
    {
      "cell_type": "code",
      "source": [
        "#22. Peça um número de telefone e verifique se ele contém o dígito 9. Exiba o resultado.\n"
      ],
      "metadata": {
        "id": "MfA2gKSufxq6"
      },
      "execution_count": null,
      "outputs": []
    },
    {
      "cell_type": "code",
      "source": [
        "#23. Solicite um número e informe se ele possui exatamente 2 dígitos.\n",
        "num = int(input(\"Digite um número: \"))\n",
        "if len(num)==2:\n",
        " print('O numero digitado acima tem somente dois caracteres')\n",
        "else:\n",
        " print('O numero digitado acima não tem somente dois caracteres')"
      ],
      "metadata": {
        "id": "DGOJvul0gCtr"
      },
      "execution_count": null,
      "outputs": []
    },
    {
      "cell_type": "code",
      "source": [
        "#24. Peça o preço de um ingresso e aplique um desconto de 15%. Verifique se o preço com desconto ainda é superior a R$50,00 e exiba uma mensagem informando o resultado.\n",
        "ingr=int(input(\"Digite o valor inicial de seu ingresso: \"))\n",
        "desc= (ingr*15)/100\n",
        "vlrf = ingr - desc\n",
        "if vlrf>50:\n",
        "\n",
        "else:\n"
      ],
      "metadata": {
        "id": "cCfIv9P2gFLS",
        "colab": {
          "base_uri": "https://localhost:8080/"
        },
        "outputId": "58cfc26c-649d-4e95-8270-d7fb5b1291b3"
      },
      "execution_count": null,
      "outputs": [
        {
          "output_type": "stream",
          "name": "stdout",
          "text": [
            "Digite o valor inicial de seu ingresso: 100\n",
            "Como o valor inicial de seu ingresso estava100 e com o desconto de 15% você obteve um desconto de mais de R$50 e ficou no valor final de 85.0\n"
          ]
        }
      ]
    },
    {
      "cell_type": "code",
      "source": [
        "#25. Solicite um número ao usuário e informe se ele é divisível por 8. Exiba o resultado.\n",
        "num=int(input(\"Digite um numero: \"))\n",
        "if num%8 ==8:\n",
        "  print(f'O n° 1{num} é divisivel por 8 e o resultado dessa divisão é{num/8}')\n",
        "else:\n",
        "  print(f'O n° {num} não é divisivel por 8 e o resultado dessa divisão é{num/8}')"
      ],
      "metadata": {
        "id": "m7bnAGgYgHZr",
        "colab": {
          "base_uri": "https://localhost:8080/"
        },
        "outputId": "2e7a3aa2-9568-40eb-e1a0-3f4bf6c84ac9"
      },
      "execution_count": null,
      "outputs": [
        {
          "output_type": "stream",
          "name": "stdout",
          "text": [
            "Digite um numero:16\n",
            "O n° 16 não é divisivel por 8 e o resultado dessa divisão é2.0\n"
          ]
        }
      ]
    },
    {
      "cell_type": "code",
      "source": [
        "#26. Peça um número e verifique se ele é divisível tanto por 5 quanto por 9. Informe o resultado.\n",
        "num=int(input(\"Digite um numero: \"))\n",
        "if num%5==0 and num%9==0:\n",
        " print(f\"O n° {num} é divisivel por 5 e 9 ao mesmo tempo.\")\n",
        "elif num%4==0:\n",
        "  print(f\"O n° {num} é divisivel apenas por 5.\")\n",
        "elif num%5==0:\n",
        "  print(f\"O n° {num} é divisivel apenas por 9.\")\n",
        "\n",
        "else:\n",
        "  print(f\"O n° {num} não é divisivel por nenhum deles.\")"
      ],
      "metadata": {
        "id": "cVBfaZYegJHK",
        "colab": {
          "base_uri": "https://localhost:8080/"
        },
        "outputId": "45960044-a51c-4384-d72a-1b70a2cdaf5b"
      },
      "execution_count": null,
      "outputs": [
        {
          "output_type": "stream",
          "name": "stdout",
          "text": [
            "Digite um numero: 45\n",
            "O n° 45 é divisivel por 5 e 9 ao mesmo tempo.\n"
          ]
        }
      ]
    },
    {
      "cell_type": "code",
      "source": [
        "#27. Solicite o peso de um objeto em kg e informe se ele pesa mais de 25 kg.\n",
        "ps=int(input(\"digite \"))"
      ],
      "metadata": {
        "id": "sUsbHg2ygO_C"
      },
      "execution_count": null,
      "outputs": []
    },
    {
      "cell_type": "code",
      "source": [
        "#28. Peça uma letra ao usuário e informe se ela é uma vogal ou uma consoante. Considere letras minúsculas e maiúsculas.\n",
        "ltr = input(\"Digite uma letra: \")\n",
        "if ltr in 'AEIOU' or ltr in 'aeiou':\n",
        "  print(f\"A letra {ltr} é uma vogal \")\n",
        "else:\n",
        "  print(f\"A letra {ltr} é uma consoante \")"
      ],
      "metadata": {
        "id": "S2ZrNJ6fgTw6",
        "colab": {
          "base_uri": "https://localhost:8080/"
        },
        "outputId": "f7f102d8-04df-4919-dccf-fea8caa939d9"
      },
      "execution_count": null,
      "outputs": [
        {
          "output_type": "stream",
          "name": "stdout",
          "text": [
            "Digite uma letra:b\n",
            "A letra b é uma consoante \n"
          ]
        }
      ]
    },
    {
      "cell_type": "code",
      "source": [
        "#29. Solicite a velocidade de um veículo e informe se ela está abaixo, dentro ou acima do limite de 60 km/h.\n",
        "vel=int(input(\"Digite a veloidade em que o viculo estava: \"))\n",
        "if vel<60:\n",
        " print(\"Você esta abaixo do limte de velociodade\")\n",
        "elif vel<67:\n",
        " print(\"Você esta dentro  do limte de velociodade\")\n",
        "else:\n",
        "    print(\"Você ultrapassou o limite de velocidade\")"
      ],
      "metadata": {
        "id": "PRd4wQkFgYhz"
      },
      "execution_count": null,
      "outputs": []
    },
    {
      "cell_type": "code",
      "source": [
        "#30. Peça um valor em reais ao usuário e verifique se ele é suficiente para comprar um produto que custa R$200,00. Exiba uma mensagem com a resposta.\n",
        "vlr=int(input(\"Digite o valor que você possui(R$): \"))\n",
        "if vlr>=200:\n",
        " print(\"Você pussui o valor suficiente para comprar o item\")\n",
        "else:\n",
        "   print(\"Você não pussui o valor suficiente para comprar o item\")"
      ],
      "metadata": {
        "id": "kS4JMj06gcJS",
        "colab": {
          "base_uri": "https://localhost:8080/"
        },
        "outputId": "5edb9818-8195-4f8c-fa51-85c6ab6535ac"
      },
      "execution_count": null,
      "outputs": [
        {
          "output_type": "stream",
          "name": "stdout",
          "text": [
            "Digite o valor que você possui(R$): 200\n",
            "Você pussui o valor suficiente para comprar o item\n"
          ]
        }
      ]
    }
  ]
}