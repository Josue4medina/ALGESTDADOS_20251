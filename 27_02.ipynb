{
  "nbformat": 4,
  "nbformat_minor": 0,
  "metadata": {
    "colab": {
      "provenance": [],
      "authorship_tag": "ABX9TyOC2aZlPhBO+G7jUHUSSBNL",
      "include_colab_link": true
    },
    "kernelspec": {
      "name": "python3",
      "display_name": "Python 3"
    },
    "language_info": {
      "name": "python"
    }
  },
  "cells": [
    {
      "cell_type": "markdown",
      "metadata": {
        "id": "view-in-github",
        "colab_type": "text"
      },
      "source": [
        "<a href=\"https://colab.research.google.com/github/Josue4medina/ALGESTDADOS_20251/blob/main/27_02.ipynb\" target=\"_parent\"><img src=\"https://colab.research.google.com/assets/colab-badge.svg\" alt=\"Open In Colab\"/></a>"
      ]
    },
    {
      "cell_type": "markdown",
      "source": [
        "## Soma de dois numeros conhecidos em Phyton"
      ],
      "metadata": {
        "id": "-Xw32YpNbWP6"
      }
    },
    {
      "cell_type": "code",
      "source": [
        "num1 = 1930\n",
        "num2 = 1640\n",
        "resultado = num1 + num2\n",
        "\n",
        "print(resultado)"
      ],
      "metadata": {
        "colab": {
          "base_uri": "https://localhost:8080/"
        },
        "id": "0ZvQbWyaRXGX",
        "outputId": "f097c8dc-2a07-4693-d301-cf2ba59c6fd1"
      },
      "execution_count": null,
      "outputs": [
        {
          "output_type": "stream",
          "name": "stdout",
          "text": [
            "3570\n"
          ]
        }
      ]
    },
    {
      "cell_type": "markdown",
      "source": [
        "##Soma de dois numeros desconhecidos em Phyton"
      ],
      "metadata": {
        "id": "TwG65_jKboHS"
      }
    },
    {
      "cell_type": "code",
      "source": [
        "num1 = int (input (\"Digite o primeiro  numero: \"))\n",
        "num2 = int (input(\"Digite o primeiro numero: \"))\n",
        "resultado = num1 + num2\n",
        "print(resultado)"
      ],
      "metadata": {
        "colab": {
          "base_uri": "https://localhost:8080/"
        },
        "id": "v0gDhw2rbTMB",
        "outputId": "a62fee47-1a32-45d9-8943-7574f6c1df49"
      },
      "execution_count": null,
      "outputs": [
        {
          "output_type": "stream",
          "name": "stdout",
          "text": [
            "Digite o primeiro  numero: 12\n",
            "Digite o primeiro numero: 370\n",
            "382\n"
          ]
        }
      ]
    }
  ]
}